import pandas as pd
import openai

# Leitura dos dados
base = pd.read_csv('netflix_titles.csv')

# Configuração da chave da API GPT-3
gpt_key = 'sua-chave-da-API-do-GPT-3'
openai.api_key = gpt_key

# Função para identificar o gênero com GPT-3
def identifica_genero(description):
    try:
        response = openai.Completion.create(
            engine="text-davinci-002",
            prompt=f"Qual é o gênero do filme ou série descrito como: {description}? Traga apenas uma palavra com o nome do gênero, exemplos: comédia, fantasia, horror, ação, romance.",
            max_tokens=1
        )
        
        # Extrair o gênero da resposta
        genre = response.choices[0].text.strip()
        return genre
    except Exception as e:
        print(f"Erro ao processar descrição: {e}")
        return "Desconhecido"

# Aplicar a função para identificar gênero
base['genre'] = base['description'].apply(identifica_genero)

# Exibir a coluna de gênero
print(base['genre'])

# Salvar os dados em um novo arquivo CSV
base.to_csv("netflix_titles_with_genre.csv", index=False)
